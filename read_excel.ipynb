{
 "cells": [
  {
   "cell_type": "code",
   "execution_count": 1,
   "id": "e0baa6f3-8305-4881-b5fe-8348e1a1301c",
   "metadata": {},
   "outputs": [
    {
     "name": "stdout",
     "output_type": "stream",
     "text": [
      "Requirement already satisfied: pandas in c:\\laragon\\bin\\python\\python-3.10\\lib\\site-packages (2.2.1)\n",
      "Requirement already satisfied: numpy in c:\\laragon\\bin\\python\\python-3.10\\lib\\site-packages (1.26.4)\n",
      "Requirement already satisfied: python-dateutil>=2.8.2 in c:\\laragon\\bin\\python\\python-3.10\\lib\\site-packages (from pandas) (2.9.0.post0)\n",
      "Requirement already satisfied: pytz>=2020.1 in c:\\laragon\\bin\\python\\python-3.10\\lib\\site-packages (from pandas) (2024.1)\n",
      "Requirement already satisfied: tzdata>=2022.7 in c:\\laragon\\bin\\python\\python-3.10\\lib\\site-packages (from pandas) (2024.1)\n",
      "Requirement already satisfied: six>=1.5 in c:\\laragon\\bin\\python\\python-3.10\\lib\\site-packages (from python-dateutil>=2.8.2->pandas) (1.16.0)\n",
      "Note: you may need to restart the kernel to use updated packages.\n"
     ]
    }
   ],
   "source": [
    "%pip install pandas numpy"
   ]
  },
  {
   "cell_type": "code",
   "execution_count": 2,
   "id": "59ab08bf-816e-45d8-9695-05943196acb6",
   "metadata": {},
   "outputs": [],
   "source": [
    "import pandas as pd\n",
    "import numpy as np"
   ]
  },
  {
   "cell_type": "code",
   "execution_count": 3,
   "id": "3c4c6b20-be11-4607-97c4-55729f2a59f3",
   "metadata": {},
   "outputs": [],
   "source": [
    "df = pd.read_excel('FirewallRules.xlsx');"
   ]
  },
  {
   "cell_type": "code",
   "execution_count": 4,
   "id": "030744e1-27e5-4ba6-a04b-88d47afa4f58",
   "metadata": {},
   "outputs": [
    {
     "data": {
      "text/html": [
       "<div>\n",
       "<style scoped>\n",
       "    .dataframe tbody tr th:only-of-type {\n",
       "        vertical-align: middle;\n",
       "    }\n",
       "\n",
       "    .dataframe tbody tr th {\n",
       "        vertical-align: top;\n",
       "    }\n",
       "\n",
       "    .dataframe thead th {\n",
       "        text-align: right;\n",
       "    }\n",
       "</style>\n",
       "<table border=\"1\" class=\"dataframe\">\n",
       "  <thead>\n",
       "    <tr style=\"text-align: right;\">\n",
       "      <th></th>\n",
       "      <th>No</th>\n",
       "      <th>SourceHost</th>\n",
       "      <th>SourceIP</th>\n",
       "      <th>DestinationHost</th>\n",
       "      <th>DestinationIP</th>\n",
       "      <th>Protocol</th>\n",
       "      <th>Port</th>\n",
       "    </tr>\n",
       "  </thead>\n",
       "  <tbody>\n",
       "    <tr>\n",
       "      <th>0</th>\n",
       "      <td>6</td>\n",
       "      <td>IDJKTWR06</td>\n",
       "      <td>10.0.0.6</td>\n",
       "      <td>SERVER1</td>\n",
       "      <td>8.8.8.6</td>\n",
       "      <td>TCP</td>\n",
       "      <td>443</td>\n",
       "    </tr>\n",
       "    <tr>\n",
       "      <th>1</th>\n",
       "      <td>7</td>\n",
       "      <td>IDJKTWR07</td>\n",
       "      <td>10.0.0.7</td>\n",
       "      <td>SERVER2</td>\n",
       "      <td>8.8.8.7</td>\n",
       "      <td>UDP</td>\n",
       "      <td>80</td>\n",
       "    </tr>\n",
       "    <tr>\n",
       "      <th>2</th>\n",
       "      <td>8</td>\n",
       "      <td>IDJKTWR08</td>\n",
       "      <td>10.0.0.8</td>\n",
       "      <td>SERVER3</td>\n",
       "      <td>8.8.8.8</td>\n",
       "      <td>UDP</td>\n",
       "      <td>514</td>\n",
       "    </tr>\n",
       "    <tr>\n",
       "      <th>3</th>\n",
       "      <td>9</td>\n",
       "      <td>IDJKTWR09</td>\n",
       "      <td>10.0.0.9</td>\n",
       "      <td>SERVER4</td>\n",
       "      <td>8.8.8.9</td>\n",
       "      <td>TCP</td>\n",
       "      <td>443</td>\n",
       "    </tr>\n",
       "    <tr>\n",
       "      <th>4</th>\n",
       "      <td>10</td>\n",
       "      <td>IDJKTWR10</td>\n",
       "      <td>10.0.0.10</td>\n",
       "      <td>SERVER5</td>\n",
       "      <td>8.8.8.10</td>\n",
       "      <td>TCP</td>\n",
       "      <td>443</td>\n",
       "    </tr>\n",
       "  </tbody>\n",
       "</table>\n",
       "</div>"
      ],
      "text/plain": [
       "   No SourceHost   SourceIP DestinationHost DestinationIP Protocol  Port\n",
       "0   6  IDJKTWR06   10.0.0.6         SERVER1       8.8.8.6      TCP   443\n",
       "1   7  IDJKTWR07   10.0.0.7         SERVER2       8.8.8.7      UDP    80\n",
       "2   8  IDJKTWR08   10.0.0.8         SERVER3       8.8.8.8      UDP   514\n",
       "3   9  IDJKTWR09   10.0.0.9         SERVER4       8.8.8.9      TCP   443\n",
       "4  10  IDJKTWR10  10.0.0.10         SERVER5      8.8.8.10      TCP   443"
      ]
     },
     "execution_count": 4,
     "metadata": {},
     "output_type": "execute_result"
    }
   ],
   "source": [
    "df.head()"
   ]
  },
  {
   "cell_type": "code",
   "execution_count": null,
   "id": "484f007c-d1be-48ef-b63c-13a7bdc758d4",
   "metadata": {},
   "outputs": [],
   "source": []
  }
 ],
 "metadata": {
  "kernelspec": {
   "display_name": "Python 3 (ipykernel)",
   "language": "python",
   "name": "python3"
  },
  "language_info": {
   "codemirror_mode": {
    "name": "ipython",
    "version": 3
   },
   "file_extension": ".py",
   "mimetype": "text/x-python",
   "name": "python",
   "nbconvert_exporter": "python",
   "pygments_lexer": "ipython3",
   "version": "3.10.6"
  }
 },
 "nbformat": 4,
 "nbformat_minor": 5
}
